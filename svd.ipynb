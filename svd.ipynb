{
 "cells": [
  {
   "cell_type": "code",
   "execution_count": 6,
   "metadata": {},
   "outputs": [
    {
     "name": "stdout",
     "output_type": "stream",
     "text": [
      "The matrix a is:\n",
      " [[1 2 3]\n",
      " [4 5 6]\n",
      " [3 2 4]]\n",
      "\n",
      " v=  [[-0.33639989  0.45240714  0.82593153]\n",
      " [-0.80581847  0.3155772  -0.50106649]\n",
      " [-0.48733122 -0.83410959  0.25839789]]\n",
      "\n",
      " s=  [10.87097278  1.13625135  0.72861765]\n",
      "\n",
      " t=  [[-0.46193358 -0.5221754  -0.71690321]\n",
      " [-0.6931678   0.71681418 -0.07547078]\n",
      " [-0.55329537 -0.46207174  0.69307571]]\n",
      "\n",
      " [[1. 2. 3.]\n",
      " [4. 5. 6.]\n",
      " [3. 2. 4.]]\n"
     ]
    }
   ],
   "source": [
    "#program to perform svd using python\n",
    "import numpy as np\n",
    "from scipy.linalg import svd\n",
    "\n",
    "a=np.array([[1,2,3],[4,5,6],[3,2,4]])\n",
    "print(\"The matrix a is:\\n\",a)\n",
    "\n",
    "v,s,t=svd(a)  #to find svd\n",
    "\n",
    "print(\"\\n v= \",v)\n",
    "print(\"\\n s= \",s)\n",
    "print(\"\\n t= \",t)\n",
    "\n",
    "e=(v @ np.diag(s) @t)\n",
    "print(\"\\n\",e)"
   ]
  },
  {
   "cell_type": "code",
   "execution_count": null,
   "metadata": {
    "collapsed": true
   },
   "outputs": [],
   "source": []
  },
  {
   "cell_type": "code",
   "execution_count": null,
   "metadata": {
    "collapsed": true
   },
   "outputs": [],
   "source": []
  }
 ],
 "metadata": {
  "kernelspec": {
   "display_name": "Python 3",
   "language": "python",
   "name": "python3"
  },
  "language_info": {
   "codemirror_mode": {
    "name": "ipython",
    "version": 3
   },
   "file_extension": ".py",
   "mimetype": "text/x-python",
   "name": "python",
   "nbconvert_exporter": "python",
   "pygments_lexer": "ipython3",
   "version": "3.6.3"
  }
 },
 "nbformat": 4,
 "nbformat_minor": 2
}
