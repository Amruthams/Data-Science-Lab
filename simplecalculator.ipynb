{
 "cells": [
  {
   "cell_type": "code",
   "execution_count": 15,
   "metadata": {},
   "outputs": [
    {
     "name": "stdout",
     "output_type": "stream",
     "text": [
      "Enter first number :10\n",
      "Enter second number :5\n",
      "\n",
      " 1.Add \n",
      " 2.Substraction \n",
      " 3.Multiplication \n",
      " 4.Division \n",
      " 5.Exit\n",
      "\n",
      "Enter your choice:1\n",
      "Sum= 15\n",
      "\n",
      " 1.Add \n",
      " 2.Substraction \n",
      " 3.Multiplication \n",
      " 4.Division \n",
      " 5.Exit\n",
      "\n",
      "Enter your choice:2\n",
      "Difference= 5\n",
      "\n",
      " 1.Add \n",
      " 2.Substraction \n",
      " 3.Multiplication \n",
      " 4.Division \n",
      " 5.Exit\n",
      "\n",
      "Enter your choice:3\n",
      "Product= 50\n",
      "\n",
      " 1.Add \n",
      " 2.Substraction \n",
      " 3.Multiplication \n",
      " 4.Division \n",
      " 5.Exit\n",
      "\n",
      "Enter your choice:4\n",
      "Quotient= 2.0\n",
      "\n",
      " 1.Add \n",
      " 2.Substraction \n",
      " 3.Multiplication \n",
      " 4.Division \n",
      " 5.Exit\n",
      "\n",
      "Enter your choice:5\n",
      "Exiting....\n"
     ]
    }
   ],
   "source": [
    "#simple calculator\n",
    "n1=int(input(\"Enter first number :\"))\n",
    "n2=int(input(\"Enter second number :\"))\n",
    "while(1):\n",
    "    print(\"\\n 1.Add \\n 2.Substraction \\n 3.Multiplication \\n 4.Division \\n 5.Exit\")\n",
    "    ch=int(input(\"\\nEnter your choice:\"))\n",
    "    if ch==1:\n",
    "        a=n1+n2\n",
    "        print(\"Sum=\",a)\n",
    "    elif ch==2:\n",
    "        b=n1-n2\n",
    "        print(\"Difference=\",b)\n",
    "    elif ch==3:\n",
    "        c=n1*n2\n",
    "        print(\"Product=\",c)\n",
    "    elif ch==4:\n",
    "        if n2==0:\n",
    "            print(\"Division not possible\")\n",
    "            break\n",
    "        d=n1/n2\n",
    "        print(\"Quotient=\",d)\n",
    "    else:\n",
    "        print(\"Exiting....\")\n",
    "        break\n",
    "        \n",
    "        \n",
    "                 \n",
    "        \n",
    "        \n",
    "    "
   ]
  },
  {
   "cell_type": "code",
   "execution_count": null,
   "metadata": {
    "collapsed": true
   },
   "outputs": [],
   "source": []
  }
 ],
 "metadata": {
  "kernelspec": {
   "display_name": "Python 3",
   "language": "python",
   "name": "python3"
  },
  "language_info": {
   "codemirror_mode": {
    "name": "ipython",
    "version": 3
   },
   "file_extension": ".py",
   "mimetype": "text/x-python",
   "name": "python",
   "nbconvert_exporter": "python",
   "pygments_lexer": "ipython3",
   "version": "3.6.3"
  }
 },
 "nbformat": 4,
 "nbformat_minor": 2
}
