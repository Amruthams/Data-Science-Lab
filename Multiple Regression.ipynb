{
 "cells": [
  {
   "cell_type": "code",
   "execution_count": 1,
   "metadata": {},
   "outputs": [
    {
     "name": "stdout",
     "output_type": "stream",
     "text": [
      "\n",
      "__prediction__\n",
      " [ 2.07872867  0.9662282  -0.16117412  1.82229476 -0.03749929  2.28704244\n",
      " -0.03604989  1.30986735  1.27147131  1.10781204  1.59744796  1.299921\n",
      "  1.23731195  1.32145191  1.34954356 -0.11133487  1.36886386  1.2542803\n",
      "  0.03401222 -0.05014733  1.82644819  1.42764369  0.09995305  0.04048737\n",
      "  1.59299693 -0.1147503   0.15857194  1.17003517  0.9301028   0.10397109\n",
      "  1.74160045  1.45830398 -0.07070034  1.62994357  2.00546549  1.27901229\n",
      " -0.04419114  1.59151965]\n",
      "\n",
      "__acual__\n",
      " [2 1 0 2 0 2 0 1 1 1 2 1 1 1 1 0 1 1 0 0 2 1 0 0 2 0 0 1 1 0 2 1 0 2 2 1 0\n",
      " 1]\n",
      "\n",
      "Mean squared error\n",
      "0.06325336904344213\n",
      "\n",
      "r2 score\n",
      "0.8886123598795971\n"
     ]
    }
   ],
   "source": [
    "from sklearn.datasets import load_iris\n",
    "import numpy as np\n",
    "x,y=load_iris(return_X_y=True)\n",
    "\n",
    "\n",
    "from sklearn.model_selection import train_test_split\n",
    "x_train,x_test,y_train,y_test=train_test_split(x,y,test_size=0.25,random_state=0)\n",
    "\n",
    "\n",
    "from sklearn.linear_model import LinearRegression \n",
    "c=LinearRegression()\n",
    "c.fit(x_train,y_train)\n",
    "p=c.predict(x_test)\n",
    "print(\"\\n__prediction__\\n\",p)\n",
    "print(\"\\n__acual__\\n\",y_test)\n",
    "\n",
    "from sklearn.metrics import mean_squared_error,r2_score\n",
    "a=mean_squared_error(y_test,p)\n",
    "print(\"\\nMean squared error\")\n",
    "print(a)\n",
    "b=r2_score(y_test,p)\n",
    "print(\"\\nr2 score\")\n",
    "print(b)\n",
    "\n",
    "\n"
   ]
  },
  {
   "cell_type": "code",
   "execution_count": null,
   "metadata": {
    "collapsed": true
   },
   "outputs": [],
   "source": []
  }
 ],
 "metadata": {
  "kernelspec": {
   "display_name": "Python 3",
   "language": "python",
   "name": "python3"
  },
  "language_info": {
   "codemirror_mode": {
    "name": "ipython",
    "version": 3
   },
   "file_extension": ".py",
   "mimetype": "text/x-python",
   "name": "python",
   "nbconvert_exporter": "python",
   "pygments_lexer": "ipython3",
   "version": "3.6.3"
  }
 },
 "nbformat": 4,
 "nbformat_minor": 2
}
