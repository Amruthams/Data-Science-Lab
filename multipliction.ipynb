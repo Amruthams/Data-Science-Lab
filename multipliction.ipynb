{
 "cells": [
  {
   "cell_type": "code",
   "execution_count": 8,
   "metadata": {},
   "outputs": [
    {
     "name": "stdout",
     "output_type": "stream",
     "text": [
      "The matrix a is :\n",
      " [[1 2 3]\n",
      " [1 2 4]\n",
      " [2 3 4]]\n",
      "\n",
      "The matrix b is:\n",
      " [[2 3 4]\n",
      " [1 2 3]\n",
      " [3 2 1]]\n",
      "\n",
      " Multiplication of matrix a and b is:\n",
      " [[13 13 13]\n",
      " [16 15 14]\n",
      " [19 20 21]]\n",
      "\n",
      "Transpose of matrix b is\n",
      " [[2 1 3]\n",
      " [3 2 2]\n",
      " [4 3 1]]\n"
     ]
    }
   ],
   "source": [
    "#program to perform matrix multiplication and transformation using python\n",
    "import numpy as np\n",
    "a=np.array([[1,2,3],[1,2,4],[2,3,4]])\n",
    "print(\"The matrix a is :\\n\",a)\n",
    "\n",
    "b=np.array([[2,3,4],[1,2,3],[3,2,1]])\n",
    "print(\"\\nThe matrix b is:\\n\",b)\n",
    "\n",
    "print(\"\\n Multiplication of matrix a and b is:\\n\",np.dot(a,b))\n",
    "\n",
    "print(\"\\nTranspose of matrix b is\\n\",b.transpose())\n"
   ]
  },
  {
   "cell_type": "code",
   "execution_count": null,
   "metadata": {
    "collapsed": true
   },
   "outputs": [],
   "source": []
  }
 ],
 "metadata": {
  "kernelspec": {
   "display_name": "Python 3",
   "language": "python",
   "name": "python3"
  },
  "language_info": {
   "codemirror_mode": {
    "name": "ipython",
    "version": 3
   },
   "file_extension": ".py",
   "mimetype": "text/x-python",
   "name": "python",
   "nbconvert_exporter": "python",
   "pygments_lexer": "ipython3",
   "version": "3.6.3"
  }
 },
 "nbformat": 4,
 "nbformat_minor": 2
}
